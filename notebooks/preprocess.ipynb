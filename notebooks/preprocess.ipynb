{
 "cells": [
  {
   "cell_type": "code",
   "execution_count": null,
   "metadata": {
    "collapsed": true
   },
   "outputs": [],
   "source": [
    "import os\n",
    "import sys\n",
    "import shutil\n",
    "import numpy as np\n",
    "import matplotlib.pyplot as plt\n",
    "% matplotlib inline\n",
    "\n",
    "import cv2"
   ]
  },
  {
   "cell_type": "code",
   "execution_count": null,
   "metadata": {
    "collapsed": true
   },
   "outputs": [],
   "source": [
    "# indices to columns of the ground-truth matrix\n",
    "key = 'camera ID frame left top width height worldX worldY feetX feetyY'.split()\n",
    "key = {k: v for v, k in enumerate(key)}\n",
    "\n",
    "# cameras are synshcornised with respect to camera #5 and these are frame offsets\n",
    "start_frame_nums = [5543, 3607, 27244, 31182, 1, 22402, 18968, 46766]\n",
    "\n",
    "# num pixels in the longer side of the original videos\n",
    "original_longer = 1920\n",
    "\n",
    "# relative path to the folder with all frames\n",
    "frames_folder = 'frames'\n",
    "seqs_folder = 'fancy_seqs'"
   ]
  },
  {
   "cell_type": "code",
   "execution_count": null,
   "metadata": {
    "collapsed": true
   },
   "outputs": [],
   "source": [
    "# path to the ground-truth file\n",
    "gt_path = '../trainvalRaw.mat'\n",
    "# path = '../trainval.mat'\n",
    "\n",
    "# path to the folder with extracted frames\n",
    "data_path = '../processed/camera2_2'\n",
    "\n",
    "camera_num = 2\n",
    "max_n_objects = 3\n",
    "\n",
    "# region of interest as y, x, h, w in the downscaled image\n",
    "roi = 13, 48, 64, 64\n",
    "\n",
    "# fraction of object that needs to be within the roi to be counted as present\n",
    "intersection_threshold = .05\n",
    "assert 0. <= intersection_threshold <= 1.\n",
    "\n",
    "# num pixels in the longer side of downscaled videos\n",
    "downscaled_longer = 160\n",
    "\n",
    "# maximum allowed number of consecutive empty frames in a sequence\n",
    "max_empty_frames = 2\n",
    "\n",
    "# minimum sequence length\n",
    "min_seq_len = 10"
   ]
  },
  {
   "cell_type": "code",
   "execution_count": null,
   "metadata": {
    "collapsed": true
   },
   "outputs": [],
   "source": [
    "ratio = float(original_longer) / downscaled_longer\n",
    "original_roi = ratio * np.asarray(roi)\n",
    "start_frame_num = start_frame_nums[camera_num - 1]\n",
    "\n",
    "frames_folder = os.path.join(data_path, frames_folder)\n",
    "seqs_folder = os.path.join(data_path, seqs_folder)"
   ]
  },
  {
   "cell_type": "code",
   "execution_count": null,
   "metadata": {},
   "outputs": [],
   "source": [
    "print 'Loading \"{}\"'.format(os.path.basename(gt_path))\n",
    "\n",
    "if 'Raw' in gt_path:\n",
    "    import h5py\n",
    "    f = h5py.File(gt_path, 'r')\n",
    "    data = f['trainData'][()].T\n",
    "else:\n",
    "    import scipy.io\n",
    "    f = scipy.io.loadmat(gt_path)\n",
    "    data = f['trainData']"
   ]
  },
  {
   "cell_type": "code",
   "execution_count": null,
   "metadata": {},
   "outputs": [],
   "source": [
    "# Select data for the specified camera and shift frame nums by the starting frame num\n",
    "camera_idx = np.equal(data[:, 0], camera_num)\n",
    "frames, left, top, width, height = np.split(data[camera_idx, 2:7], 5, -1)\n",
    "\n",
    "boxes = np.concatenate([top, left, height, width], -1)\n",
    "# frames -= start_frame_num\n",
    "\n",
    "objects = np.concatenate([frames, boxes], -1) # frame, bbox\n",
    "\n",
    "print 'Total number of objects:', objects.shape[0]\n",
    "print 'Frames from {} to {}'.format(frames.min(), frames.max())"
   ]
  },
  {
   "cell_type": "code",
   "execution_count": null,
   "metadata": {},
   "outputs": [],
   "source": [
    "# Select objects that are only withing the region of interest\n",
    "def intersection(bbox, roi):\n",
    "    \"\"\"Computes area of intersection between boxes in `bbox` and boxes in `roi`.\n",
    "    Dimensions in both should be given as (y, x, h, w).\n",
    "\n",
    "    :param bbox: np.array of shape [N, 4]\n",
    "    :param roi: np.array of shape [4] or [k, 4] where k \\in {1, N}\n",
    "    :return: np.array of shape [N]\n",
    "    \"\"\"\n",
    "\n",
    "    bbox = np.asarray(bbox)\n",
    "    roi = np.asarray(roi)\n",
    "\n",
    "    while len(roi.shape) < len(bbox.shape):\n",
    "        roi = roi[np.newaxis, ...]\n",
    "\n",
    "    y_top = np.maximum(bbox[..., 0], roi[..., 0])\n",
    "    x_left = np.maximum(bbox[..., 1], roi[..., 1])\n",
    "    y_bottom = np.minimum(bbox[..., 0] + bbox[..., 2], roi[..., 0] + roi[..., 2])\n",
    "    x_right = np.minimum(bbox[..., 1] + bbox[..., 3], roi[..., 1] + roi[..., 3])\n",
    "\n",
    "    invalid_x = np.less(x_right, x_left)\n",
    "    invalid_y = np.less(y_bottom, y_top)\n",
    "    invalid = np.logical_or(invalid_x, invalid_y)\n",
    "\n",
    "    # The intersection of two axis-aligned bounding boxes is always an\n",
    "    # axis-aligned bounding box\n",
    "    intersection_area = (x_right - x_left) * (y_bottom - y_top)\n",
    "#     print 'invalid', invalid.sum()\n",
    "    intersection_area[invalid] = 0.\n",
    "    return intersection_area\n",
    "\n",
    "\n",
    "def within_roi(bbox, roi, threshold):\n",
    "    intersection_area = intersection(bbox, roi)\n",
    "    object_area = np.prod(bbox[..., 2:], -1)\n",
    "    fraction_of_object_area_in_roi = intersection_area / (object_area + 1e-8)\n",
    "#     print roi\n",
    "#     print bbox[0]\n",
    "#     print bbox[..., 2:].shape\n",
    "#     print 'object area', object_area.mean()\n",
    "#     print 'int area', intersection_area.mean()\n",
    "#     print 'fraction', fraction_of_object_area_in_roi.mean()\n",
    "    objects_within_roi = np.greater(fraction_of_object_area_in_roi, threshold)\n",
    "    return objects_within_roi\n",
    "\n",
    "objects_within_roi = within_roi(objects[..., 1:], original_roi, intersection_threshold)\n",
    "objects = objects[objects_within_roi]\n",
    "\n",
    "print 'Total number of objects within ROI:', objects.shape[0]"
   ]
  },
  {
   "cell_type": "code",
   "execution_count": null,
   "metadata": {},
   "outputs": [],
   "source": [
    "print objects[..., 1:].max(0)\n",
    "print objects[..., 1:].min(0)\n",
    "print original_roi"
   ]
  },
  {
   "cell_type": "code",
   "execution_count": null,
   "metadata": {
    "collapsed": true
   },
   "outputs": [],
   "source": [
    "# Count objects in all frames\n",
    "unique_frames, object_counts = np.unique(objects[..., 0], return_counts=True)\n",
    "\n",
    "max_frame = int(objects[:, 0].max())\n",
    "frames_and_counts = np.zeros((max_frame, 2), dtype=np.int32)\n",
    "frames_and_counts[:, 0] = np.arange(1, max_frame + 1)\n",
    "frames_and_counts[unique_frames.astype(np.int32) - 1, 1] = object_counts.astype(np.int32)"
   ]
  },
  {
   "cell_type": "code",
   "execution_count": null,
   "metadata": {},
   "outputs": [],
   "source": [
    "# Find frames with up to `max_n_objects`\n",
    "up_to_n_objects = np.less_equal(frames_and_counts[:, 1], max_n_objects)\n",
    "no_objects = np.equal(frames_and_counts[:, 1], 0)\n",
    "\n",
    "\n",
    "allowed_frames = frames_and_counts[up_to_n_objects, 0]\n",
    "print 'There are {} frames where the number of objects is between 1 and {}.'.format(up_to_n_objects.sum() - no_objects.sum(), max_n_objects)\n",
    "print 'There are {} frames with zero objects.'.format(no_objects.sum())"
   ]
  },
  {
   "cell_type": "code",
   "execution_count": null,
   "metadata": {},
   "outputs": [],
   "source": [
    "# Find all frames we have\n",
    "def find_frames(path):\n",
    "    frames_paths = [os.path.join(path, p) for p in os.listdir(path) if p.endswith('jpeg')]\n",
    "    frames = {int(p.split('_')[-1].split('.')[0]): p for p in frames_paths}\n",
    "    return frames\n",
    "\n",
    "frames = find_frames(frames_folder)\n",
    "frame_nums = sorted(frames.keys())\n",
    "print frame_nums[:10]"
   ]
  },
  {
   "cell_type": "code",
   "execution_count": null,
   "metadata": {},
   "outputs": [],
   "source": [
    "allowed_and_present_frames = set(frame_nums).intersection(allowed_frames)\n",
    "allowed_and_present_frames = np.asarray(sorted(list(allowed_and_present_frames)))\n",
    "\n",
    "print 'There are {} present frames that have less than {} objects.'.format(len(allowed_and_present_frames), max_n_objects)"
   ]
  },
  {
   "cell_type": "code",
   "execution_count": null,
   "metadata": {},
   "outputs": [],
   "source": [
    "# determine number of objects in all frames that we can use\n",
    "\n",
    "object_counts_in_present_frames = frames_and_counts[allowed_and_present_frames - 1, 1]\n",
    "first_frame, last_frame = allowed_and_present_frames[[0, -1]]\n",
    "\n",
    "# Some of the present frames are not allowed, hence the difference in numbers between consecutive\n",
    "# frames might be bigger. Here we find the minimum interval, which is the interval that we have frames as.\n",
    "# We use it later to create a mask that tells us exactly which of our frames we can use.\n",
    "frame_interval = (allowed_and_present_frames[1:] - allowed_and_present_frames[:-1]).min()\n",
    "regularly_spaced_frames = np.arange(first_frame, last_frame+1, frame_interval)\n",
    "counts = np.zeros_like(regularly_spaced_frames)\n",
    "\n",
    "i = 0\n",
    "for frame_num, obj_count in zip(allowed_and_present_frames, object_counts_in_present_frames):\n",
    "    while regularly_spaced_frames[i] < frame_num:\n",
    "        i += 1\n",
    "        counts[i] = obj_count\n",
    "        \n",
    "regularly_spaced_frames_and_counts = np.stack((regularly_spaced_frames, counts), -1)"
   ]
  },
  {
   "cell_type": "code",
   "execution_count": null,
   "metadata": {},
   "outputs": [],
   "source": [
    "# creates sequences\n",
    "seqs = [] # a list of list of consecutive frame numbers\n",
    "\n",
    "last_frame_was_empty = None\n",
    "n_empty_frames = 0\n",
    "seq = []\n",
    "for i, (frame_num, obj_count) in enumerate(regularly_spaced_frames_and_counts):\n",
    "    \n",
    "    frame_is_empty = (obj_count == 0)\n",
    "    if frame_is_empty and len(seq) > 0:\n",
    "        if n_empty_frames < max_empty_frames:\n",
    "            n_empty_frames += 1\n",
    "            seq.append(frame_num)\n",
    "        else:\n",
    "            n_empty_frames = 0\n",
    "            seqs.append(seq)\n",
    "            seq = []\n",
    "    else:\n",
    "        if len(seq) == 0:\n",
    "            if last_frame_was_empty:\n",
    "                seq.append(last_frame)\n",
    "                \n",
    "        seq.append(frame_num)\n",
    "        \n",
    "    last_frame = frame_num\n",
    "    last_frame_was_empty = frame_is_empty"
   ]
  },
  {
   "cell_type": "code",
   "execution_count": null,
   "metadata": {},
   "outputs": [],
   "source": [
    "# prune sequences\n",
    "for i in xrange(len(seqs) - 1, -1, -1):\n",
    "    if len(seqs[i]) <= min_seq_len:\n",
    "        del seqs[i]"
   ]
  },
  {
   "cell_type": "code",
   "execution_count": null,
   "metadata": {
    "scrolled": true
   },
   "outputs": [],
   "source": [
    "seq_lens = [len(seq) for seq in seqs]\n",
    "print 'Created {} sequences:'.format(len(seqs))\n",
    "print '\\tmin seq_len =', min(seq_lens)\n",
    "print '\\tmean seq_len =', np.mean(seq_lens)\n",
    "print '\\tmedian seq_len =', np.median(seq_lens)\n",
    "print '\\tmax seq_len =', max(seq_lens)\n",
    "print '\\ttotal number of frames =', sum(seq_lens)"
   ]
  },
  {
   "cell_type": "code",
   "execution_count": null,
   "metadata": {},
   "outputs": [],
   "source": [
    "# # Create sequences\n",
    "# def mkdir_p(path):\n",
    "#     if not os.path.exists(path):\n",
    "#         os.makedirs(path)\n",
    "        \n",
    "# mkdir_p(seqs_folder)\n",
    "# for i, seq in enumerate(seqs):\n",
    "#     seq_folder = os.path.join(seqs_folder, '{:04d}'.format(i))\n",
    "#     mkdir_p(seq_folder)\n",
    "#     for img_num in seq:\n",
    "#         src_img_path = frames[img_num]\n",
    "#         dst_img_path = os.path.join(seq_folder, os.path.basename(src_img_path))\n",
    "#         shutil.copy(src_img_path, dst_img_path)"
   ]
  },
  {
   "cell_type": "code",
   "execution_count": null,
   "metadata": {
    "collapsed": true
   },
   "outputs": [],
   "source": [
    "def rect(bbox, c=None, facecolor='none', label=None, ax=None, line_width=1):\n",
    "    r = Rectangle((bbox[1], bbox[0]), bbox[3], bbox[2], linewidth=line_width,\n",
    "                  edgecolor=c, facecolor=facecolor, label=label)\n",
    "\n",
    "    if ax is not None:\n",
    "        ax.add_patch(r)\n",
    "    return r"
   ]
  },
  {
   "cell_type": "code",
   "execution_count": null,
   "metadata": {},
   "outputs": [],
   "source": [
    "from matplotlib.patches import Rectangle\n",
    "\n",
    "\n",
    "def plot_random_frame(ax, only_roi=False):\n",
    "    \n",
    "    n_objects = 0\n",
    "    while n_objects == 0:\n",
    "        frame = np.random.choice(regularly_spaced_frames_and_counts[:, 0])\n",
    "        img_path = frames[frame]\n",
    "        bboxes = objects[np.equal(objects[:, 0], frame)][:, 1:]\n",
    "        objects_within_roi = within_roi(bboxes, original_roi, intersection_threshold)\n",
    "#         print bboxes.shape[0], objects_within_roi.sum(),\n",
    "        bboxes = bboxes[objects_within_roi]\n",
    "\n",
    "        n_objects = bboxes.shape[0]\n",
    "#         print n_objects\n",
    "\n",
    "    bboxes /= ratio\n",
    "    img = cv2.imread(img_path)\n",
    "    \n",
    "    if only_roi:\n",
    "        bboxes[:, :2] -= np.asarray(roi[:2]).reshape((1, 2))\n",
    "        y, x, h, w = roi\n",
    "        img = img[y:y+h, x:x+w]\n",
    "    \n",
    "    ax.imshow(img)\n",
    "    ax.set_title('n_objects = {}'.format(n_objects))\n",
    "    if not only_roi:\n",
    "        rect(roi, c='g', ax=ax)\n",
    "\n",
    "    for bbox in bboxes:\n",
    "#         print bbox\n",
    "        rect(bbox, c='r', ax=ax)\n",
    "        \n",
    "fig, axes = plt.subplots(4, 4, figsize=(16, 9), sharex=True, sharey=True)\n",
    "for ax in axes.flatten():\n",
    "    plot_random_frame(ax)"
   ]
  }
 ],
 "metadata": {
  "anaconda-cloud": {},
  "kernelspec": {
   "display_name": "Python [conda root]",
   "language": "python",
   "name": "conda-root-py"
  },
  "language_info": {
   "codemirror_mode": {
    "name": "ipython",
    "version": 2
   },
   "file_extension": ".py",
   "mimetype": "text/x-python",
   "name": "python",
   "nbconvert_exporter": "python",
   "pygments_lexer": "ipython2",
   "version": "2.7.12"
  }
 },
 "nbformat": 4,
 "nbformat_minor": 1
}
